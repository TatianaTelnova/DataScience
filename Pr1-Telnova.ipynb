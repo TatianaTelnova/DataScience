{
 "cells": [
  {
   "cell_type": "code",
   "execution_count": 1,
   "id": "2cf3ef16",
   "metadata": {},
   "outputs": [],
   "source": [
    "import numpy as np\n",
    "import pandas as pd"
   ]
  },
  {
   "cell_type": "markdown",
   "id": "4d37890a",
   "metadata": {},
   "source": [
    "## Выбор и описание данных"
   ]
  },
  {
   "cell_type": "markdown",
   "id": "4f3bc38c",
   "metadata": {},
   "source": [
    "Выбраны данные Heart Disease с сайта https://archive.ics.uci.edu/ml/datasets/Heart+Disease. На их основе можно сделать прогнозирование заболеваний сердца.<br>\n",
    "На сайте представлены 4 базы данных по диагностике болезней сердца из следующих мед. учреждений:\n",
    "<ol>\n",
    "    <li>Фонд клиники Кливленда (cleveland.data)</li>\n",
    "    <li>Венгерский институт кардиологии, Будапешт (hungarian.data)</li>\n",
    "    <li>В.А. Медицинский центр, Лонг-Бич, Калифорния (long-beach-va.data)</li>\n",
    "    <li>Университетская клиника, Цюрих, Швейцария (switzerland.data)</li>\n",
    "</ol>\n",
    "В каждой базе данных имеется информация о 76 показателях состояния пациента, на основе которых ставится диагноз. Присутствуют пропуски данных, отмечены значением -9,0.<br>\n",
    "Для анализа были взяты данные из Фонда клиники Кливленда (cleveland.data). Они содержат неинформативные столбцы с одинаковыми значениями во всех строках, не заполненные данными столбцы, а также столбцы, помеченные составителями базы данных как неиспользуемые. Такие столбцы не учитывались при дальнейшем анализе."
   ]
  },
  {
   "cell_type": "code",
   "execution_count": 2,
   "id": "bae7adbd",
   "metadata": {},
   "outputs": [
    {
     "data": {
      "text/html": [
       "<div>\n",
       "<style scoped>\n",
       "    .dataframe tbody tr th:only-of-type {\n",
       "        vertical-align: middle;\n",
       "    }\n",
       "\n",
       "    .dataframe tbody tr th {\n",
       "        vertical-align: top;\n",
       "    }\n",
       "\n",
       "    .dataframe thead th {\n",
       "        text-align: right;\n",
       "    }\n",
       "</style>\n",
       "<table border=\"1\" class=\"dataframe\">\n",
       "  <thead>\n",
       "    <tr style=\"text-align: right;\">\n",
       "      <th></th>\n",
       "      <th>id</th>\n",
       "      <th>age</th>\n",
       "      <th>sex</th>\n",
       "      <th>cp</th>\n",
       "      <th>trestbps</th>\n",
       "      <th>chol</th>\n",
       "      <th>fbs</th>\n",
       "      <th>famhist</th>\n",
       "      <th>restecg</th>\n",
       "      <th>ekgmo</th>\n",
       "      <th>...</th>\n",
       "      <th>tpeakbps</th>\n",
       "      <th>tpeakbpd</th>\n",
       "      <th>trestbpd</th>\n",
       "      <th>exang</th>\n",
       "      <th>xhypo</th>\n",
       "      <th>oldpeak</th>\n",
       "      <th>slope</th>\n",
       "      <th>ca</th>\n",
       "      <th>thal</th>\n",
       "      <th>num</th>\n",
       "    </tr>\n",
       "  </thead>\n",
       "  <tbody>\n",
       "    <tr>\n",
       "      <th>0</th>\n",
       "      <td>1</td>\n",
       "      <td>63</td>\n",
       "      <td>1</td>\n",
       "      <td>1</td>\n",
       "      <td>145</td>\n",
       "      <td>233</td>\n",
       "      <td>1</td>\n",
       "      <td>1</td>\n",
       "      <td>2</td>\n",
       "      <td>2</td>\n",
       "      <td>...</td>\n",
       "      <td>190</td>\n",
       "      <td>90</td>\n",
       "      <td>85</td>\n",
       "      <td>0</td>\n",
       "      <td>0</td>\n",
       "      <td>2.3</td>\n",
       "      <td>3</td>\n",
       "      <td>0</td>\n",
       "      <td>6</td>\n",
       "      <td>0</td>\n",
       "    </tr>\n",
       "    <tr>\n",
       "      <th>1</th>\n",
       "      <td>2</td>\n",
       "      <td>67</td>\n",
       "      <td>1</td>\n",
       "      <td>4</td>\n",
       "      <td>160</td>\n",
       "      <td>286</td>\n",
       "      <td>0</td>\n",
       "      <td>1</td>\n",
       "      <td>2</td>\n",
       "      <td>3</td>\n",
       "      <td>...</td>\n",
       "      <td>160</td>\n",
       "      <td>90</td>\n",
       "      <td>90</td>\n",
       "      <td>1</td>\n",
       "      <td>0</td>\n",
       "      <td>1.5</td>\n",
       "      <td>2</td>\n",
       "      <td>3</td>\n",
       "      <td>3</td>\n",
       "      <td>2</td>\n",
       "    </tr>\n",
       "    <tr>\n",
       "      <th>2</th>\n",
       "      <td>3</td>\n",
       "      <td>67</td>\n",
       "      <td>1</td>\n",
       "      <td>4</td>\n",
       "      <td>120</td>\n",
       "      <td>229</td>\n",
       "      <td>0</td>\n",
       "      <td>1</td>\n",
       "      <td>2</td>\n",
       "      <td>2</td>\n",
       "      <td>...</td>\n",
       "      <td>140</td>\n",
       "      <td>80</td>\n",
       "      <td>80</td>\n",
       "      <td>1</td>\n",
       "      <td>0</td>\n",
       "      <td>2.6</td>\n",
       "      <td>2</td>\n",
       "      <td>2</td>\n",
       "      <td>7</td>\n",
       "      <td>1</td>\n",
       "    </tr>\n",
       "    <tr>\n",
       "      <th>3</th>\n",
       "      <td>4</td>\n",
       "      <td>37</td>\n",
       "      <td>1</td>\n",
       "      <td>3</td>\n",
       "      <td>130</td>\n",
       "      <td>250</td>\n",
       "      <td>0</td>\n",
       "      <td>1</td>\n",
       "      <td>0</td>\n",
       "      <td>2</td>\n",
       "      <td>...</td>\n",
       "      <td>195</td>\n",
       "      <td>68</td>\n",
       "      <td>78</td>\n",
       "      <td>0</td>\n",
       "      <td>0</td>\n",
       "      <td>3.5</td>\n",
       "      <td>3</td>\n",
       "      <td>0</td>\n",
       "      <td>3</td>\n",
       "      <td>0</td>\n",
       "    </tr>\n",
       "    <tr>\n",
       "      <th>4</th>\n",
       "      <td>6</td>\n",
       "      <td>41</td>\n",
       "      <td>0</td>\n",
       "      <td>2</td>\n",
       "      <td>130</td>\n",
       "      <td>204</td>\n",
       "      <td>0</td>\n",
       "      <td>1</td>\n",
       "      <td>2</td>\n",
       "      <td>2</td>\n",
       "      <td>...</td>\n",
       "      <td>160</td>\n",
       "      <td>74</td>\n",
       "      <td>86</td>\n",
       "      <td>0</td>\n",
       "      <td>0</td>\n",
       "      <td>1.4</td>\n",
       "      <td>1</td>\n",
       "      <td>0</td>\n",
       "      <td>3</td>\n",
       "      <td>0</td>\n",
       "    </tr>\n",
       "  </tbody>\n",
       "</table>\n",
       "<p>5 rows × 29 columns</p>\n",
       "</div>"
      ],
      "text/plain": [
       "   id  age  sex  cp  trestbps  chol  fbs  famhist  restecg  ekgmo  ...  \\\n",
       "0   1   63    1   1       145   233    1        1        2      2  ...   \n",
       "1   2   67    1   4       160   286    0        1        2      3  ...   \n",
       "2   3   67    1   4       120   229    0        1        2      2  ...   \n",
       "3   4   37    1   3       130   250    0        1        0      2  ...   \n",
       "4   6   41    0   2       130   204    0        1        2      2  ...   \n",
       "\n",
       "   tpeakbps  tpeakbpd  trestbpd  exang  xhypo  oldpeak  slope  ca  thal  num  \n",
       "0       190        90        85      0      0      2.3      3   0     6    0  \n",
       "1       160        90        90      1      0      1.5      2   3     3    2  \n",
       "2       140        80        80      1      0      2.6      2   2     7    1  \n",
       "3       195        68        78      0      0      3.5      3   0     3    0  \n",
       "4       160        74        86      0      0      1.4      1   0     3    0  \n",
       "\n",
       "[5 rows x 29 columns]"
      ]
     },
     "execution_count": 2,
     "metadata": {},
     "output_type": "execute_result"
    }
   ],
   "source": [
    "# Выборка из всех данных столбцов, которые можно анализировать\n",
    "pdata = pd.read_csv('cleveland.csv', delimiter=';')[[\"id\",\"age\",\"sex\",\"cp\",\"trestbps\",\"chol\",\"fbs\",\"famhist\",\"restecg\",\"ekgmo\",\"ekgday\",\"ekgyr\",\"dig\",\"prop\",\"nitr\",\"pro\",\"diuretic\",\"thalach\",\"thalrest\",\"tpeakbps\",\"tpeakbpd\",\"trestbpd\",\"exang\",\"xhypo\",\"oldpeak\",\"slope\",\"ca\",\"thal\",\"num\"]]\n",
    "pdata.head()"
   ]
  },
  {
   "cell_type": "markdown",
   "id": "7f5d9eed",
   "metadata": {},
   "source": [
    "## Описание показателей"
   ]
  },
  {
   "cell_type": "markdown",
   "id": "0456d435",
   "metadata": {},
   "source": [
    "Из 76 столбцов было выбрано 29, данные которых можно проанализировать.<br><br>\n",
    "<b>Общая информация</b><br>\n",
    "1 id: уникальный номер пациента в списке<br>\n",
    "3 age: возраст на момент обследования (в годах)<br>\n",
    "4 sex: пол (1 = мужской; 0 = женский)<br><br>\n",
    "<b>Данные истории болезни</b><br>\n",
    "9 cp: тип боли в груди<br>\n",
    "-- Значение 1: типичная стенокардия<br>\n",
    "-- Значение 2: атипичная стенокардия<br>\n",
    "-- Значение 3: неангинозная боль<br>\n",
    "-- Значение 4: бессимптомный<br>\n",
    "10 trestbps: систолическое артериальное давление в состоянии покоя при поступлении в больницу (в мм рт. ст.)<br>\n",
    "12 chol: содержание холестерина (в мг/дл)<br> \n",
    "16 fbs: уровень сахара в крови натощак > 120 мг/дл (1 = да; 0 = нет)<br>\n",
    "18 famhist: была ли у кого-то в семье ишемическая болезнь сердца (1 = да; 0 = нет)<br>\n",
    "19 restecg: результаты электрокардиографии в покое<br>\n",
    "-- Значение 0: нормальный<br>\n",
    "-- Значение 1: наличие аномалии ST-T (инверсия зубца T и/или элевация или депрессия ST > 0,05 мВ)<br>\n",
    "-- Значение 2: показывает вероятную или определенную гипертрофию левого желудочка по критериям Эстеса<br><br>\n",
    "<b>Дата проведения ЭКГ</b><br>\n",
    "20 ekgmo: месяц проведения ЭКГ (от 1 до 12)<br>\n",
    "21 ekgday: день проведения ЭКГ (от 1 до 31)<br>\n",
    "22 ekgyr: год проведения ЭКГ (от 1981 до 1984)<br><br>\n",
    "<b>Медикаментозное лечение в период проведения обследования</b><br>\n",
    "23 dig: прием дигиталиса в период проведения ЭКГ (1 = да; 0 = нет)<br>\n",
    "24 prop: прием бета блокаторов в период проведения ЭКГ (1 = да; 0 = нет)<br>\n",
    "25 nitr: прием нитратов в период проведения ЭКГ (1 = да; 0 = нет)<br>\n",
    "26 pro: прием блокаторов кальциевых каналов в период проведения ЭКГ (1 = да; 0 = нет)<br>\n",
    "27 diuretic: прием диуретиков в период проведения ЭКГ (1 = да; 0 = нет)<br><br>\n",
    "<b>Данные электрокардиограммы</b><br>\n",
    "32 thalach: максимальная частота сердечных сокращений (кол-во раз)<br>\n",
    "33 thalrest: частота сердечных сокращений в покое (кол-во раз)<br>\n",
    "34 tpeakbps: пиковое артериальное давление при физической нагрузке, первая из 2 частей (в мм рт. ст.)<br>\n",
    "35 tpeakbpd: пиковое артериальное давление при физической нагрузке, вторая из 2 частей (в мм рт. ст.)<br>\n",
    "37 trestbpd: диастолическое артериальное давление в покое (в мм рт. ст.)<br>\n",
    "38 exang: стенокардия, вызванная физической нагрузкой (1 = да; 0 = нет)<br>\n",
    "39 xhypo: гипотензия, вызванная физической нагрузкой (1 = да; 0 = нет)<br>\n",
    "40 oldpeak: депрессия сегмента ST, вызванная физической нагрузкой, по сравнению с состоянием покоя (в мм)<br>\n",
    "41 slope: наклон пикового сегмента ST при нагрузке<br>\n",
    "-- Значение 1: восходящий<br>\n",
    "-- Значение 2: плоский<br>\n",
    "-- Значение 3: нисходящий<br><br>\n",
    "<b>Данные рентгеноскопии сердца</b><br>\n",
    "44 ca: количество крупных сосудов, окрашенных при рентгеноскопии<br><br>\n",
    "<b>Данные сцинтиграфии с таллием с физической нагрузкой</b><br>\n",
    "51 thal: результат сцинтиграфии с таллием<br>\n",
    "--Значение 3: нормальный<br>\n",
    "--Значение 6: фиксированный дефект<br>\n",
    "--Значение 7: обратимый дефект<br><br>\n",
    "<b>Диагноз</b><br>\n",
    "58 num: наличие болезни сердца<br>\n",
    "-- Значение 0: нет<br>\n",
    "-- Значения 1-4: есть, предположительно, значение определяет степень тяжести заболевания"
   ]
  },
  {
   "cell_type": "markdown",
   "id": "c2d8b6cf",
   "metadata": {},
   "source": [
    "## Характеристики некоторых столбцов"
   ]
  },
  {
   "cell_type": "code",
   "execution_count": 3,
   "id": "ed7c50f4",
   "metadata": {},
   "outputs": [
    {
     "data": {
      "text/plain": [
       "1    191\n",
       "0     91\n",
       "Name: sex, dtype: int64"
      ]
     },
     "execution_count": 3,
     "metadata": {},
     "output_type": "execute_result"
    }
   ],
   "source": [
    "# Подсчитываем частоты уникальных значений показателя\n",
    "pdata[\"sex\"].value_counts()"
   ]
  },
  {
   "cell_type": "code",
   "execution_count": 4,
   "id": "6482e310",
   "metadata": {},
   "outputs": [
    {
     "data": {
      "text/plain": [
       "count    282.000000\n",
       "mean      54.411348\n",
       "std        9.053083\n",
       "min       29.000000\n",
       "25%       48.000000\n",
       "50%       55.000000\n",
       "75%       61.000000\n",
       "max       77.000000\n",
       "Name: age, dtype: float64"
      ]
     },
     "execution_count": 4,
     "metadata": {},
     "output_type": "execute_result"
    }
   ],
   "source": [
    "# Данные по показателю возраст\n",
    "# В результате имеем информацию о:\n",
    "# среднем значении возраста пациентов, \n",
    "# стандартное отклонение, \n",
    "# возраст самого молодого пациента и самого пожилого, \n",
    "# 1-й процентиль, 2-й процентиль, 3-й процентиль столбцов с числовыми значениями\n",
    "pdata[\"age\"].describe()"
   ]
  },
  {
   "cell_type": "code",
   "execution_count": 5,
   "id": "fd9caa1d",
   "metadata": {},
   "outputs": [
    {
     "data": {
      "text/plain": [
       "53.84"
      ]
     },
     "execution_count": 5,
     "metadata": {},
     "output_type": "execute_result"
    }
   ],
   "source": [
    "# Средний возраст мужчин\n",
    "round(pdata[pdata[\"sex\"] == 1][\"age\"].mean(), 2)"
   ]
  },
  {
   "cell_type": "code",
   "execution_count": 6,
   "id": "8c0927d5",
   "metadata": {},
   "outputs": [
    {
     "data": {
      "text/plain": [
       "55.6"
      ]
     },
     "execution_count": 6,
     "metadata": {},
     "output_type": "execute_result"
    }
   ],
   "source": [
    "# Средний возраст женщин\n",
    "round(pdata[pdata[\"sex\"] == 0][\"age\"].mean(), 2)"
   ]
  },
  {
   "cell_type": "code",
   "execution_count": 7,
   "id": "268f9dad",
   "metadata": {},
   "outputs": [
    {
     "data": {
      "text/plain": [
       "131.56"
      ]
     },
     "execution_count": 7,
     "metadata": {},
     "output_type": "execute_result"
    }
   ],
   "source": [
    "# Среднее значение систолического артериального давления в состоянии покоя при поступлении в больницу\n",
    "round(pdata[\"trestbps\"].mean(), 2)"
   ]
  },
  {
   "cell_type": "code",
   "execution_count": 8,
   "id": "ceed6b7d",
   "metadata": {},
   "outputs": [
    {
     "data": {
      "text/plain": [
       "4    133\n",
       "3     84\n",
       "2     43\n",
       "1     22\n",
       "Name: cp, dtype: int64"
      ]
     },
     "execution_count": 8,
     "metadata": {},
     "output_type": "execute_result"
    }
   ],
   "source": [
    "# Количество человек с различным типом боли в груди\n",
    "pdata[\"cp\"].value_counts()"
   ]
  },
  {
   "cell_type": "code",
   "execution_count": 9,
   "id": "f748bedf",
   "metadata": {},
   "outputs": [
    {
     "data": {
      "text/plain": [
       "0    2\n",
       "dtype: int64"
      ]
     },
     "execution_count": 9,
     "metadata": {},
     "output_type": "execute_result"
    }
   ],
   "source": [
    "# Самый часто встречающийся результат электрокардиографии в покое\n",
    "# Получено, что у большинста пациентов наблюдается гипертрофия левого желудочка по критериям Эстеса (значение 2)\n",
    "pdata[\"restecg\"].mode()"
   ]
  },
  {
   "cell_type": "code",
   "execution_count": 10,
   "id": "97a73485",
   "metadata": {},
   "outputs": [
    {
     "data": {
      "text/plain": [
       "148"
      ]
     },
     "execution_count": 10,
     "metadata": {},
     "output_type": "execute_result"
    }
   ],
   "source": [
    "# Количество пациентов, которые принимают лекарства в период проведения обследования\n",
    "((pdata[\"dig\"] == 1) | (pdata[\"prop\"] == 1) | (pdata[\"nitr\"] == 1) | (pdata[\"pro\"] == 1) | (pdata[\"diuretic\"] == 1)).sum()"
   ]
  },
  {
   "cell_type": "code",
   "execution_count": 11,
   "id": "93eca737",
   "metadata": {},
   "outputs": [
    {
     "data": {
      "text/plain": [
       " 7    94\n",
       " 3    82\n",
       " 6    14\n",
       "-9     1\n",
       "Name: thal, dtype: int64"
      ]
     },
     "execution_count": 11,
     "metadata": {},
     "output_type": "execute_result"
    }
   ],
   "source": [
    "# Результат сцинтиграфии с таллием среди мужчин (3 - нормальный результат)\n",
    "pdata[pdata[\"sex\"] == 1][\"thal\"].value_counts()"
   ]
  },
  {
   "cell_type": "code",
   "execution_count": 12,
   "id": "12f81f02",
   "metadata": {},
   "outputs": [
    {
     "data": {
      "text/plain": [
       " 3    77\n",
       " 7    13\n",
       "-9     1\n",
       "Name: thal, dtype: int64"
      ]
     },
     "execution_count": 12,
     "metadata": {},
     "output_type": "execute_result"
    }
   ],
   "source": [
    "# Результат сцинтиграфии с таллием среди женщин (3 - нормальный результат)\n",
    "# Среди женщин больше здоровых пациентов, чем среди мужчин\n",
    "pdata[pdata[\"sex\"] == 0][\"thal\"].value_counts()"
   ]
  },
  {
   "cell_type": "code",
   "execution_count": 13,
   "id": "a0c9cd1c",
   "metadata": {},
   "outputs": [
    {
     "name": "stdout",
     "output_type": "stream",
     "text": [
      "num:  0    sex:  0    mean age: 54.55\n",
      "num:  0    sex:  1    mean age: 51.30\n",
      "num:  1    sex:  0    mean age: 61.00\n",
      "num:  1    sex:  1    mean age: 54.34\n",
      "num:  2    sex:  0    mean age: 54.83\n",
      "num:  2    sex:  1    mean age: 58.64\n",
      "num:  3    sex:  0    mean age: 60.67\n",
      "num:  3    sex:  1    mean age: 54.81\n",
      "num:  4    sex:  0    mean age: 64.00\n",
      "num:  4    sex:  1    mean age: 59.00\n"
     ]
    }
   ],
   "source": [
    "# Группировка данных по полу, диагнозу и подсчет среднего возраста пациентов в каждой группе\n",
    "groups = pdata.groupby([\"num\", \"sex\"])\n",
    "for (num, sex), g in groups:\n",
    "    print(\"num: {0:2}    sex: {1:2}    mean age: {2:5.2f}\".format(num, sex, g[\"age\"].mean()))"
   ]
  },
  {
   "cell_type": "code",
   "execution_count": 14,
   "id": "f3365674",
   "metadata": {},
   "outputs": [
    {
     "data": {
      "text/plain": [
       "0    5\n",
       "Name: num, dtype: int64"
      ]
     },
     "execution_count": 14,
     "metadata": {},
     "output_type": "execute_result"
    }
   ],
   "source": [
    "# Наличие заболевания сердца среди женщин моложе 40\n",
    "# Получено, что все женщины из этой выборки здоровы\n",
    "pdata[(pdata[\"sex\"] == 0) & (pdata[\"age\"] < 40)][\"num\"].value_counts()"
   ]
  },
  {
   "cell_type": "code",
   "execution_count": 15,
   "id": "94c16654",
   "metadata": {},
   "outputs": [
    {
     "name": "stdout",
     "output_type": "stream",
     "text": [
      "68%\n"
     ]
    }
   ],
   "source": [
    "# Процент пациентов с заболеваниями сердца среди мужчин старше 60\n",
    "oldmen = pdata[(pdata[\"sex\"] == 1) & (pdata[\"age\"] > 60)]\n",
    "print(\"{0:.0%}\".format(round((oldmen[\"num\"] != 0).sum() / len(oldmen), 2)))"
   ]
  },
  {
   "cell_type": "markdown",
   "id": "46221037",
   "metadata": {},
   "source": [
    "## Визуализация для отдельных показателей"
   ]
  },
  {
   "cell_type": "code",
   "execution_count": 16,
   "id": "317202af",
   "metadata": {},
   "outputs": [],
   "source": [
    "import matplotlib.pyplot as plt\n",
    "import seaborn as sns"
   ]
  },
  {
   "cell_type": "code",
   "execution_count": 17,
   "id": "882b284e",
   "metadata": {},
   "outputs": [
    {
     "data": {
      "text/plain": [
       "<AxesSubplot:xlabel='cp', ylabel='count'>"
      ]
     },
     "execution_count": 17,
     "metadata": {},
     "output_type": "execute_result"
    },
    {
     "data": {
      "image/png": "[encoded data removed]",
      "text/plain": [
       "<Figure size 720x360 with 1 Axes>"
      ]
     },
     "metadata": {
      "needs_background": "light"
     },
     "output_type": "display_data"
    }
   ],
   "source": [
    "# Диаграмма частот для категорийного показателя\n",
    "# Количество пациентов c определенным типом боли в груди\n",
    "fig = plt.figure(figsize = (10, 5))\n",
    "sns.countplot(x=\"cp\", data = pdata)"
   ]
  },
  {
   "cell_type": "code",
   "execution_count": 18,
   "id": "3c14f07e",
   "metadata": {},
   "outputs": [
    {
     "data": {
      "text/plain": [
       "<AxesSubplot:xlabel='num', ylabel='count'>"
      ]
     },
     "execution_count": 18,
     "metadata": {},
     "output_type": "execute_result"
    },
    {
     "data": {
      "image/png": "[encoded data removed]",
      "text/plain": [
       "<Figure size 720x360 with 1 Axes>"
      ]
     },
     "metadata": {
      "needs_background": "light"
     },
     "output_type": "display_data"
    }
   ],
   "source": [
    "# Диаграмма частот с группировкой\n",
    "# Наличие и отсутствие заболеваний у мужчин и женщин\n",
    "fig = plt.figure(figsize = (10, 5))\n",
    "sns.countplot(x=\"num\", hue = \"sex\", data = pdata)"
   ]
  },
  {
   "cell_type": "code",
   "execution_count": 19,
   "id": "120fc56f",
   "metadata": {},
   "outputs": [
    {
     "data": {
      "text/html": [
       "<div>\n",
       "<style scoped>\n",
       "    .dataframe tbody tr th:only-of-type {\n",
       "        vertical-align: middle;\n",
       "    }\n",
       "\n",
       "    .dataframe tbody tr th {\n",
       "        vertical-align: top;\n",
       "    }\n",
       "\n",
       "    .dataframe thead th {\n",
       "        text-align: right;\n",
       "    }\n",
       "</style>\n",
       "<table border=\"1\" class=\"dataframe\">\n",
       "  <thead>\n",
       "    <tr style=\"text-align: right;\">\n",
       "      <th>sex</th>\n",
       "      <th>0</th>\n",
       "      <th>1</th>\n",
       "    </tr>\n",
       "    <tr>\n",
       "      <th>num</th>\n",
       "      <th></th>\n",
       "      <th></th>\n",
       "    </tr>\n",
       "  </thead>\n",
       "  <tbody>\n",
       "    <tr>\n",
       "      <th>0</th>\n",
       "      <td>71</td>\n",
       "      <td>86</td>\n",
       "    </tr>\n",
       "    <tr>\n",
       "      <th>1</th>\n",
       "      <td>6</td>\n",
       "      <td>44</td>\n",
       "    </tr>\n",
       "    <tr>\n",
       "      <th>2</th>\n",
       "      <td>6</td>\n",
       "      <td>25</td>\n",
       "    </tr>\n",
       "    <tr>\n",
       "      <th>3</th>\n",
       "      <td>6</td>\n",
       "      <td>26</td>\n",
       "    </tr>\n",
       "    <tr>\n",
       "      <th>4</th>\n",
       "      <td>2</td>\n",
       "      <td>10</td>\n",
       "    </tr>\n",
       "  </tbody>\n",
       "</table>\n",
       "</div>"
      ],
      "text/plain": [
       "sex   0   1\n",
       "num        \n",
       "0    71  86\n",
       "1     6  44\n",
       "2     6  25\n",
       "3     6  26\n",
       "4     2  10"
      ]
     },
     "execution_count": 19,
     "metadata": {},
     "output_type": "execute_result"
    }
   ],
   "source": [
    "# Точные значения для полученной выше диаграммы\n",
    "pdata.groupby([\"num\", \"sex\"]).size().unstack(fill_value=0)"
   ]
  },
  {
   "cell_type": "code",
   "execution_count": 20,
   "id": "119b2815",
   "metadata": {},
   "outputs": [
    {
     "data": {
      "text/plain": [
       "<AxesSubplot:xlabel='restecg', ylabel='age'>"
      ]
     },
     "execution_count": 20,
     "metadata": {},
     "output_type": "execute_result"
    },
    {
     "data": {
      "image/png": "[encoded data removed]",
      "text/plain": [
       "<Figure size 432x288 with 1 Axes>"
      ]
     },
     "metadata": {
      "needs_background": "light"
     },
     "output_type": "display_data"
    }
   ],
   "source": [
    "# Диаграмма размаха \n",
    "# Наличие аномалии ST-T (значение 1) наблюдается в основном у пожилых пациентов\n",
    "sns.boxplot(x = \"restecg\", y = \"age\", data = pdata)"
   ]
  },
  {
   "cell_type": "code",
   "execution_count": 21,
   "id": "655351e9",
   "metadata": {},
   "outputs": [
    {
     "data": {
      "text/plain": [
       "array([[<AxesSubplot:title={'center':'thalach'}>,\n",
       "        <AxesSubplot:title={'center':'thalrest'}>]], dtype=object)"
      ]
     },
     "execution_count": 21,
     "metadata": {},
     "output_type": "execute_result"
    },
    {
     "data": {
      "image/png": "[encoded data removed]",
      "text/plain": [
       "<Figure size 1080x360 with 2 Axes>"
      ]
     },
     "metadata": {
      "needs_background": "light"
     },
     "output_type": "display_data"
    }
   ],
   "source": [
    "# Гистограммы \n",
    "# Распределение максимальной частота сердечных сокращений и частоты сердечных сокращений в покое\n",
    "pdata[[\"thalach\",\"thalrest\"]].hist(figsize=(15,5))"
   ]
  },
  {
   "cell_type": "code",
   "execution_count": 22,
   "id": "8ca53a92",
   "metadata": {},
   "outputs": [
    {
     "data": {
      "text/plain": [
       "<AxesSubplot:xlabel='chol', ylabel='Count'>"
      ]
     },
     "execution_count": 22,
     "metadata": {},
     "output_type": "execute_result"
    },
    {
     "data": {
      "image/png": "[encoded data removed]",
      "text/plain": [
       "<Figure size 720x360 with 1 Axes>"
      ]
     },
     "metadata": {
      "needs_background": "light"
     },
     "output_type": "display_data"
    }
   ],
   "source": [
    "# Гистограмма содержания холестерина у мужчин и женщин\n",
    "fig = plt.figure(figsize = (10, 5))\n",
    "sns.histplot(x = \"chol\", data = pdata, bins = 15, hue = \"sex\") "
   ]
  },
  {
   "cell_type": "markdown",
   "id": "1e653192",
   "metadata": {},
   "source": [
    "## Группировка объектов"
   ]
  },
  {
   "cell_type": "markdown",
   "id": "def94038",
   "metadata": {},
   "source": [
    "Проводилась группировка по качественному показателю num - наличию болезни сердца."
   ]
  },
  {
   "cell_type": "code",
   "execution_count": 23,
   "id": "7a4efc5b",
   "metadata": {},
   "outputs": [
    {
     "name": "stdout",
     "output_type": "stream",
     "text": [
      "Всего 5 групп\n",
      "n:  0  age: 53  chol: 244  thalach: 158  thalrest: 77  tpeakbps: 170  tpeakbpd: 78 trestbps: 129 trestbpd:  84  ca: 0.22\n",
      "n:  1  age: 55  chol: 251  thalach: 146  thalrest: 72  tpeakbps: 172  tpeakbpd: 79 trestbps: 133 trestbpd:  86  ca: 0.60\n",
      "n:  2  age: 58  chol: 270  thalach: 134  thalrest: 70  tpeakbps: 161  tpeakbpd: 82 trestbps: 133 trestbpd:  86  ca: 1.19\n",
      "n:  3  age: 56  chol: 254  thalach: 134  thalrest: 76  tpeakbps: 159  tpeakbpd: 77 trestbps: 135 trestbpd:  86  ca: 1.47\n",
      "n:  4  age: 60  chol: 248  thalach: 141  thalrest: 75  tpeakbps: 165  tpeakbpd: 84 trestbps: 141 trestbpd:  86  ca: 1.58\n"
     ]
    }
   ],
   "source": [
    "# Группировка по наличию заболевания и расчет средних значений количественных показателей\n",
    "sickgroups = pdata.groupby(\"num\")\n",
    "print(\"Всего %d групп\" % len(sickgroups))\n",
    "for num, s in sickgroups:\n",
    "    print(\"n: {0:2}  age: {1:2.0f}  chol: {2:3.0f}  thalach: {3:3.0f}  thalrest: {4:2.0f}  tpeakbps: {5:3.0f}  tpeakbpd: {6:2.0f} trestbps: {7:3.0f} trestbpd: {8:3.0f}  ca: {9:3.2f}\".format(num, s[\"age\"].mean(), s[\"chol\"].mean(), s[\"thalach\"].mean(), s[\"thalrest\"].mean(), s[\"tpeakbps\"].mean(), s[\"tpeakbpd\"].mean(), s[\"trestbps\"].mean(), s[\"trestbpd\"].mean(), s[\"ca\"].mean()))"
   ]
  },
  {
   "cell_type": "code",
   "execution_count": 24,
   "id": "4a01c8af",
   "metadata": {},
   "outputs": [
    {
     "data": {
      "text/plain": [
       "<AxesSubplot:xlabel='num', ylabel='thalach'>"
      ]
     },
     "execution_count": 24,
     "metadata": {},
     "output_type": "execute_result"
    },
    {
     "data": {
      "image/png": "[encoded data removed]",
      "text/plain": [
       "<Figure size 432x288 with 1 Axes>"
      ]
     },
     "metadata": {
      "needs_background": "light"
     },
     "output_type": "display_data"
    }
   ],
   "source": [
    "# У большинства здоровых пациентов большое значение максимальной частоты сердечных сокращений\n",
    "sns.boxplot(x = \"num\", y = \"thalach\", data = pdata)"
   ]
  },
  {
   "cell_type": "code",
   "execution_count": 25,
   "id": "fb50b42b",
   "metadata": {},
   "outputs": [
    {
     "data": {
      "text/plain": [
       "<AxesSubplot:xlabel='num', ylabel='ca'>"
      ]
     },
     "execution_count": 25,
     "metadata": {},
     "output_type": "execute_result"
    },
    {
     "data": {
      "image/png": "[encoded data removed]",
      "text/plain": [
       "<Figure size 432x288 with 1 Axes>"
      ]
     },
     "metadata": {
      "needs_background": "light"
     },
     "output_type": "display_data"
    }
   ],
   "source": [
    "sns.boxplot(x = \"num\", y = \"ca\", data = pdata[pdata[\"ca\"] != -9])"
   ]
  },
  {
   "cell_type": "code",
   "execution_count": 26,
   "id": "a8e2fa1f",
   "metadata": {},
   "outputs": [
    {
     "data": {
      "text/plain": [
       "0    125\n",
       "1     21\n",
       "2      7\n",
       "3      3\n",
       "Name: ca, dtype: int64"
      ]
     },
     "execution_count": 26,
     "metadata": {},
     "output_type": "execute_result"
    }
   ],
   "source": [
    "# У большинства здоровых пациентов при рентгеноскопии не окрасилось ни одного крупного сосуда\n",
    "pdata[(pdata[\"num\"] == 0) & (pdata[\"ca\"] != -9)][\"ca\"].value_counts()"
   ]
  },
  {
   "cell_type": "markdown",
   "id": "a450df63",
   "metadata": {},
   "source": [
    "### Качественные показатели"
   ]
  },
  {
   "cell_type": "code",
   "execution_count": 27,
   "id": "2a7cc2e0",
   "metadata": {},
   "outputs": [
    {
     "name": "stdout",
     "output_type": "stream",
     "text": [
      "n: 0  restecg: 0  exang: 0  slope: 1  thal: 3\n",
      "n: 1  restecg: 2  exang: 0  slope: 2  thal: 7\n",
      "n: 2  restecg: 0  exang: 1  slope: 2  thal: 7\n",
      "n: 3  restecg: 2  exang: 1  slope: 2  thal: 7\n",
      "n: 4  restecg: 2  exang: 0  slope: 2  thal: 7\n"
     ]
    }
   ],
   "source": [
    "# Качественные показатели, в которых в зависимости от групп отличаются самые часто встречаемые значения\n",
    "for num, s in sickgroups:\n",
    "    print(\"n: {0:1}  restecg: {1:1}  exang: {2:1}  slope: {3:1}  thal: {4:1}\".format(num,s[\"restecg\"].mode()[0],s[\"exang\"].mode()[0],s[\"slope\"].mode()[0],s[\"thal\"].mode()[0]))"
   ]
  },
  {
   "cell_type": "code",
   "execution_count": 28,
   "id": "3211b922",
   "metadata": {},
   "outputs": [
    {
     "data": {
      "text/html": [
       "<div>\n",
       "<style scoped>\n",
       "    .dataframe tbody tr th:only-of-type {\n",
       "        vertical-align: middle;\n",
       "    }\n",
       "\n",
       "    .dataframe tbody tr th {\n",
       "        vertical-align: top;\n",
       "    }\n",
       "\n",
       "    .dataframe thead th {\n",
       "        text-align: right;\n",
       "    }\n",
       "</style>\n",
       "<table border=\"1\" class=\"dataframe\">\n",
       "  <thead>\n",
       "    <tr style=\"text-align: right;\">\n",
       "      <th>slope</th>\n",
       "      <th>1</th>\n",
       "      <th>2</th>\n",
       "      <th>3</th>\n",
       "    </tr>\n",
       "    <tr>\n",
       "      <th>num</th>\n",
       "      <th></th>\n",
       "      <th></th>\n",
       "      <th></th>\n",
       "    </tr>\n",
       "  </thead>\n",
       "  <tbody>\n",
       "    <tr>\n",
       "      <th>0</th>\n",
       "      <td>101</td>\n",
       "      <td>48</td>\n",
       "      <td>8</td>\n",
       "    </tr>\n",
       "    <tr>\n",
       "      <th>1</th>\n",
       "      <td>22</td>\n",
       "      <td>26</td>\n",
       "      <td>2</td>\n",
       "    </tr>\n",
       "    <tr>\n",
       "      <th>2</th>\n",
       "      <td>5</td>\n",
       "      <td>24</td>\n",
       "      <td>2</td>\n",
       "    </tr>\n",
       "    <tr>\n",
       "      <th>3</th>\n",
       "      <td>6</td>\n",
       "      <td>21</td>\n",
       "      <td>5</td>\n",
       "    </tr>\n",
       "    <tr>\n",
       "      <th>4</th>\n",
       "      <td>1</td>\n",
       "      <td>10</td>\n",
       "      <td>1</td>\n",
       "    </tr>\n",
       "  </tbody>\n",
       "</table>\n",
       "</div>"
      ],
      "text/plain": [
       "slope    1   2  3\n",
       "num              \n",
       "0      101  48  8\n",
       "1       22  26  2\n",
       "2        5  24  2\n",
       "3        6  21  5\n",
       "4        1  10  1"
      ]
     },
     "execution_count": 28,
     "metadata": {},
     "output_type": "execute_result"
    }
   ],
   "source": [
    "pdata[pdata[\"slope\"] != -9].groupby([\"num\", \"slope\"]).size().unstack(fill_value=0)"
   ]
  },
  {
   "cell_type": "code",
   "execution_count": 29,
   "id": "efddc4aa",
   "metadata": {},
   "outputs": [
    {
     "name": "stdout",
     "output_type": "stream",
     "text": [
      "n: 0  slope: 1  count: 101  count/all: 64.33%\n",
      "n: 0  slope: 2  count:  48  count/all: 30.57%\n",
      "n: 0  slope: 3  count:   8  count/all:  5.10%\n",
      "n: 1  slope: 1  count:  22  count/all: 44.00%\n",
      "n: 1  slope: 2  count:  26  count/all: 52.00%\n",
      "n: 1  slope: 3  count:   2  count/all:  4.00%\n",
      "n: 2  slope: 1  count:   5  count/all: 16.13%\n",
      "n: 2  slope: 2  count:  24  count/all: 77.42%\n",
      "n: 2  slope: 3  count:   2  count/all:  6.45%\n",
      "n: 3  slope: 1  count:   6  count/all: 18.75%\n",
      "n: 3  slope: 2  count:  21  count/all: 65.62%\n",
      "n: 3  slope: 3  count:   5  count/all: 15.62%\n",
      "n: 4  slope: 1  count:   1  count/all:  8.33%\n",
      "n: 4  slope: 2  count:  10  count/all: 83.33%\n",
      "n: 4  slope: 3  count:   1  count/all:  8.33%\n"
     ]
    }
   ],
   "source": [
    "for num, s in sickgroups:\n",
    "    slopegroups = s[s[\"slope\"] != -9].groupby(\"slope\")\n",
    "    for slope, sl in slopegroups:\n",
    "        print(\"n: {0:1}  slope: {1:1}  count: {2:3}  count/all: {3:6.2%}\".format(num, slope, sl[\"id\"].count(), sl[\"id\"].count()/s[\"id\"].count()))"
   ]
  },
  {
   "cell_type": "code",
   "execution_count": 30,
   "id": "267ee343",
   "metadata": {},
   "outputs": [
    {
     "data": {
      "text/html": [
       "<div>\n",
       "<style scoped>\n",
       "    .dataframe tbody tr th:only-of-type {\n",
       "        vertical-align: middle;\n",
       "    }\n",
       "\n",
       "    .dataframe tbody tr th {\n",
       "        vertical-align: top;\n",
       "    }\n",
       "\n",
       "    .dataframe thead th {\n",
       "        text-align: right;\n",
       "    }\n",
       "</style>\n",
       "<table border=\"1\" class=\"dataframe\">\n",
       "  <thead>\n",
       "    <tr style=\"text-align: right;\">\n",
       "      <th>thal</th>\n",
       "      <th>3</th>\n",
       "      <th>6</th>\n",
       "      <th>7</th>\n",
       "    </tr>\n",
       "    <tr>\n",
       "      <th>num</th>\n",
       "      <th></th>\n",
       "      <th></th>\n",
       "      <th></th>\n",
       "    </tr>\n",
       "  </thead>\n",
       "  <tbody>\n",
       "    <tr>\n",
       "      <th>0</th>\n",
       "      <td>124</td>\n",
       "      <td>6</td>\n",
       "      <td>26</td>\n",
       "    </tr>\n",
       "    <tr>\n",
       "      <th>1</th>\n",
       "      <td>20</td>\n",
       "      <td>3</td>\n",
       "      <td>27</td>\n",
       "    </tr>\n",
       "    <tr>\n",
       "      <th>2</th>\n",
       "      <td>7</td>\n",
       "      <td>4</td>\n",
       "      <td>19</td>\n",
       "    </tr>\n",
       "    <tr>\n",
       "      <th>3</th>\n",
       "      <td>6</td>\n",
       "      <td>0</td>\n",
       "      <td>26</td>\n",
       "    </tr>\n",
       "    <tr>\n",
       "      <th>4</th>\n",
       "      <td>2</td>\n",
       "      <td>1</td>\n",
       "      <td>9</td>\n",
       "    </tr>\n",
       "  </tbody>\n",
       "</table>\n",
       "</div>"
      ],
      "text/plain": [
       "thal    3  6   7\n",
       "num             \n",
       "0     124  6  26\n",
       "1      20  3  27\n",
       "2       7  4  19\n",
       "3       6  0  26\n",
       "4       2  1   9"
      ]
     },
     "execution_count": 30,
     "metadata": {},
     "output_type": "execute_result"
    }
   ],
   "source": [
    "# Качественный показатель thal обладает большей разницей по частотам среди здоровых и больных пациентов\n",
    "pd.crosstab(pdata[\"num\"], pdata[pdata[\"thal\"] != -9][\"thal\"])"
   ]
  },
  {
   "cell_type": "code",
   "execution_count": 31,
   "id": "d1a58146",
   "metadata": {},
   "outputs": [
    {
     "name": "stdout",
     "output_type": "stream",
     "text": [
      "n: 0  thal: 3  count: 124  count/all: 78.98%\n",
      "n: 0  thal: 6  count:   6  count/all:  3.82%\n",
      "n: 0  thal: 7  count:  26  count/all: 16.56%\n",
      "n: 1  thal: 3  count:  20  count/all: 40.00%\n",
      "n: 1  thal: 6  count:   3  count/all:  6.00%\n",
      "n: 1  thal: 7  count:  27  count/all: 54.00%\n",
      "n: 2  thal: 3  count:   7  count/all: 22.58%\n",
      "n: 2  thal: 6  count:   4  count/all: 12.90%\n",
      "n: 2  thal: 7  count:  19  count/all: 61.29%\n",
      "n: 3  thal: 3  count:   6  count/all: 18.75%\n",
      "n: 3  thal: 7  count:  26  count/all: 81.25%\n",
      "n: 4  thal: 3  count:   2  count/all: 16.67%\n",
      "n: 4  thal: 6  count:   1  count/all:  8.33%\n",
      "n: 4  thal: 7  count:   9  count/all: 75.00%\n"
     ]
    }
   ],
   "source": [
    "for num, s in sickgroups:\n",
    "    thalgroups = s[s[\"thal\"] != -9].groupby(\"thal\")\n",
    "    for thal, t in thalgroups:\n",
    "        print(\"n: {0:1}  thal: {1:1}  count: {2:3}  count/all: {3:6.2%}\".format(num, thal, t[\"id\"].count(), t[\"id\"].count()/s[\"id\"].count()))"
   ]
  },
  {
   "cell_type": "markdown",
   "id": "43abeef2",
   "metadata": {},
   "source": [
    "## Визуализация зависимостей показателей"
   ]
  },
  {
   "cell_type": "markdown",
   "id": "227fc7e6",
   "metadata": {},
   "source": [
    "### Два количественных показателя"
   ]
  },
  {
   "cell_type": "code",
   "execution_count": 32,
   "id": "4e64c48a",
   "metadata": {},
   "outputs": [
    {
     "data": {
      "text/plain": [
       "<AxesSubplot:xlabel='age', ylabel='thalach'>"
      ]
     },
     "execution_count": 32,
     "metadata": {},
     "output_type": "execute_result"
    },
    {
     "data": {
      "image/png": "[encoded data removed]",
      "text/plain": [
       "<Figure size 432x288 with 1 Axes>"
      ]
     },
     "metadata": {
      "needs_background": "light"
     },
     "output_type": "display_data"
    }
   ],
   "source": [
    "# С возрастом максимальная частота сердечных сокращений снижается\n",
    "sns.scatterplot(x = \"age\", y = \"thalach\", data = pdata)"
   ]
  },
  {
   "cell_type": "markdown",
   "id": "1d7f6097",
   "metadata": {},
   "source": [
    "### Два качественных показателя"
   ]
  },
  {
   "cell_type": "code",
   "execution_count": 33,
   "id": "fec23656",
   "metadata": {},
   "outputs": [
    {
     "data": {
      "text/plain": [
       "<AxesSubplot:xlabel='num', ylabel='count'>"
      ]
     },
     "execution_count": 33,
     "metadata": {},
     "output_type": "execute_result"
    },
    {
     "data": {
      "image/png": "[encoded data removed]",
      "text/plain": [
       "<Figure size 432x288 with 1 Axes>"
      ]
     },
     "metadata": {
      "needs_background": "light"
     },
     "output_type": "display_data"
    }
   ],
   "source": [
    "# Нормальный результат сцинтиграфии с таллием наблюдается у здоровых людей, а дефект - чаще у больных\n",
    "sns.countplot(x=\"num\", hue = \"thal\", data = pdata[pdata[\"thal\"] != -9])"
   ]
  },
  {
   "cell_type": "markdown",
   "id": "430e7b80",
   "metadata": {},
   "source": [
    "### Количественный и качественный показатели"
   ]
  },
  {
   "cell_type": "code",
   "execution_count": 34,
   "id": "ce08d6df",
   "metadata": {},
   "outputs": [
    {
     "data": {
      "text/plain": [
       "<AxesSubplot:xlabel='cp', ylabel='age'>"
      ]
     },
     "execution_count": 34,
     "metadata": {},
     "output_type": "execute_result"
    },
    {
     "data": {
      "image/png": "[encoded data removed]",
      "text/plain": [
       "<Figure size 432x288 with 1 Axes>"
      ]
     },
     "metadata": {
      "needs_background": "light"
     },
     "output_type": "display_data"
    }
   ],
   "source": [
    "# Зависимость типа боли в груди от возраста\n",
    "# У людей до 50 лет редко наблюдается типичная стенокардия (1)\n",
    "sns.stripplot(x = \"cp\", y = \"age\", data = pdata)"
   ]
  },
  {
   "cell_type": "markdown",
   "id": "cfb5eaf1",
   "metadata": {},
   "source": [
    "## Пропуски данных и аномальные выбросы"
   ]
  },
  {
   "cell_type": "markdown",
   "id": "1e5c2e31",
   "metadata": {},
   "source": [
    "Всего учитывались данные из 29 столбцов.<br>\n",
    "Среди них 7 содержат пропуски данных."
   ]
  },
  {
   "cell_type": "code",
   "execution_count": 35,
   "id": "b1743bb5",
   "metadata": {},
   "outputs": [
    {
     "name": "stdout",
     "output_type": "stream",
     "text": [
      "column: dig         missing: 2\n",
      "column: prop        missing: 2\n",
      "column: nitr        missing: 2\n",
      "column: pro         missing: 2\n",
      "column: diuretic    missing: 2\n",
      "column: ca          missing: 2\n",
      "column: thal        missing: 2\n"
     ]
    }
   ],
   "source": [
    "for column in pdata.columns:\n",
    "    if any(pdata[column] == -9):\n",
    "        print(\"column: {0:10}  missing: {1:1}\".format(column, (pdata[column] == -9).sum()))"
   ]
  },
  {
   "cell_type": "code",
   "execution_count": 36,
   "id": "2fa31f18",
   "metadata": {},
   "outputs": [
    {
     "data": {
      "text/plain": [
       "87      93\n",
       "121    131\n",
       "166    182\n",
       "192    209\n",
       "207    224\n",
       "266    283\n",
       "Name: id, dtype: int64"
      ]
     },
     "execution_count": 36,
     "metadata": {},
     "output_type": "execute_result"
    }
   ],
   "source": [
    "# Всего 6 пациентов с пропущенными показателями\n",
    "pdata[(pdata[\"dig\"] == -9)|(pdata[\"prop\"] == -9)|(pdata[\"nitr\"] == -9)|(pdata[\"pro\"] == -9)|(pdata[\"diuretic\"] == -9)|(pdata[\"ca\"] == -9)|(pdata[\"thal\"] == -9)][\"id\"]"
   ]
  },
  {
   "cell_type": "markdown",
   "id": "63316832",
   "metadata": {},
   "source": [
    "Так как dig, prop, nitr, pro, diuretic содержат качественные данные, вставим на места пропусков значения, которые чаще всего встречаются в данных столбцах. Для точности расчитаем эти данные в соответствии с группой заболевания пациентов."
   ]
  },
  {
   "cell_type": "code",
   "execution_count": 37,
   "id": "aabae3e7",
   "metadata": {},
   "outputs": [
    {
     "data": {
      "text/plain": [
       "121    4\n",
       "207    3\n",
       "Name: num, dtype: int64"
      ]
     },
     "execution_count": 37,
     "metadata": {},
     "output_type": "execute_result"
    }
   ],
   "source": [
    "# Группы заболевания пациентов с пропусками\n",
    "pdata[(pdata[\"dig\"] == -9)|(pdata[\"prop\"] == -9)|(pdata[\"nitr\"] == -9)|(pdata[\"pro\"] == -9)|(pdata[\"diuretic\"] == -9)][\"num\"]"
   ]
  },
  {
   "cell_type": "code",
   "execution_count": 38,
   "id": "e6812456",
   "metadata": {},
   "outputs": [
    {
     "name": "stdout",
     "output_type": "stream",
     "text": [
      "n: 3  dig: 0  prop: 0  nitr: 0  pro: 0  diuretic: 0\n",
      "n: 4  dig: 0  prop: 0  nitr: 0  pro: 0  diuretic: 0\n"
     ]
    }
   ],
   "source": [
    "insert = pdata.groupby(\"num\")\n",
    "for num, i in insert:\n",
    "    if ((num == 3) | (num == 4)):\n",
    "        print(\"n: {0:1}  dig: {1:1}  prop: {2:1}  nitr: {3:1}  pro: {4:1}  diuretic: {5:1}\".format(num,i[\"dig\"].mode()[0],i[\"prop\"].mode()[0],i[\"nitr\"].mode()[0],i[\"pro\"].mode()[0],i[\"diuretic\"].mode()[0]))"
   ]
  },
  {
   "cell_type": "code",
   "execution_count": 39,
   "id": "374db81f",
   "metadata": {},
   "outputs": [
    {
     "data": {
      "text/html": [
       "<div>\n",
       "<style scoped>\n",
       "    .dataframe tbody tr th:only-of-type {\n",
       "        vertical-align: middle;\n",
       "    }\n",
       "\n",
       "    .dataframe tbody tr th {\n",
       "        vertical-align: top;\n",
       "    }\n",
       "\n",
       "    .dataframe thead th {\n",
       "        text-align: right;\n",
       "    }\n",
       "</style>\n",
       "<table border=\"1\" class=\"dataframe\">\n",
       "  <thead>\n",
       "    <tr style=\"text-align: right;\">\n",
       "      <th></th>\n",
       "      <th>dig</th>\n",
       "      <th>prop</th>\n",
       "      <th>nitr</th>\n",
       "      <th>pro</th>\n",
       "      <th>diuretic</th>\n",
       "    </tr>\n",
       "  </thead>\n",
       "  <tbody>\n",
       "    <tr>\n",
       "      <th>121</th>\n",
       "      <td>-9</td>\n",
       "      <td>-9</td>\n",
       "      <td>-9</td>\n",
       "      <td>-9</td>\n",
       "      <td>-9</td>\n",
       "    </tr>\n",
       "    <tr>\n",
       "      <th>207</th>\n",
       "      <td>-9</td>\n",
       "      <td>-9</td>\n",
       "      <td>-9</td>\n",
       "      <td>-9</td>\n",
       "      <td>-9</td>\n",
       "    </tr>\n",
       "  </tbody>\n",
       "</table>\n",
       "</div>"
      ],
      "text/plain": [
       "     dig  prop  nitr  pro  diuretic\n",
       "121   -9    -9    -9   -9        -9\n",
       "207   -9    -9    -9   -9        -9"
      ]
     },
     "execution_count": 39,
     "metadata": {},
     "output_type": "execute_result"
    }
   ],
   "source": [
    "# Значения до замены\n",
    "pdata.loc[[121, 207], (\"dig\", \"prop\", \"nitr\", \"pro\", \"diuretic\")]"
   ]
  },
  {
   "cell_type": "code",
   "execution_count": 40,
   "id": "ebd07743",
   "metadata": {},
   "outputs": [],
   "source": [
    "pdata.loc[[121, 207], (\"dig\", \"prop\", \"nitr\", \"pro\", \"diuretic\")] = 0"
   ]
  },
  {
   "cell_type": "code",
   "execution_count": 41,
   "id": "15051a8b",
   "metadata": {},
   "outputs": [
    {
     "data": {
      "text/html": [
       "<div>\n",
       "<style scoped>\n",
       "    .dataframe tbody tr th:only-of-type {\n",
       "        vertical-align: middle;\n",
       "    }\n",
       "\n",
       "    .dataframe tbody tr th {\n",
       "        vertical-align: top;\n",
       "    }\n",
       "\n",
       "    .dataframe thead th {\n",
       "        text-align: right;\n",
       "    }\n",
       "</style>\n",
       "<table border=\"1\" class=\"dataframe\">\n",
       "  <thead>\n",
       "    <tr style=\"text-align: right;\">\n",
       "      <th></th>\n",
       "      <th>dig</th>\n",
       "      <th>prop</th>\n",
       "      <th>nitr</th>\n",
       "      <th>pro</th>\n",
       "      <th>diuretic</th>\n",
       "    </tr>\n",
       "  </thead>\n",
       "  <tbody>\n",
       "    <tr>\n",
       "      <th>121</th>\n",
       "      <td>0</td>\n",
       "      <td>0</td>\n",
       "      <td>0</td>\n",
       "      <td>0</td>\n",
       "      <td>0</td>\n",
       "    </tr>\n",
       "    <tr>\n",
       "      <th>207</th>\n",
       "      <td>0</td>\n",
       "      <td>0</td>\n",
       "      <td>0</td>\n",
       "      <td>0</td>\n",
       "      <td>0</td>\n",
       "    </tr>\n",
       "  </tbody>\n",
       "</table>\n",
       "</div>"
      ],
      "text/plain": [
       "     dig  prop  nitr  pro  diuretic\n",
       "121    0     0     0    0         0\n",
       "207    0     0     0    0         0"
      ]
     },
     "execution_count": 41,
     "metadata": {},
     "output_type": "execute_result"
    }
   ],
   "source": [
    "# Значения после замены\n",
    "pdata.loc[[121, 207], (\"dig\", \"prop\", \"nitr\", \"pro\", \"diuretic\")]"
   ]
  },
  {
   "cell_type": "markdown",
   "id": "8d6c5da4",
   "metadata": {},
   "source": [
    "Показатель thal тоже качественный, для него аналогично расчитываем моду. Как было получено ранее, показатель обладает большей разницей по частотам среди здоровых и больных пациентов."
   ]
  },
  {
   "cell_type": "code",
   "execution_count": 42,
   "id": "144277fd",
   "metadata": {},
   "outputs": [
    {
     "data": {
      "text/plain": [
       "87     0\n",
       "266    2\n",
       "Name: num, dtype: int64"
      ]
     },
     "execution_count": 42,
     "metadata": {},
     "output_type": "execute_result"
    }
   ],
   "source": [
    "pdata[(pdata[\"thal\"] == -9)][\"num\"]"
   ]
  },
  {
   "cell_type": "code",
   "execution_count": 43,
   "id": "ffc86c46",
   "metadata": {},
   "outputs": [
    {
     "name": "stdout",
     "output_type": "stream",
     "text": [
      "n: 0  thal: 3\n",
      "n: 2  thal: 7\n"
     ]
    }
   ],
   "source": [
    "for num, i in insert:\n",
    "    if ((num == 0) | (num == 2)):\n",
    "        print(\"n: {0:1}  thal: {1:1}\".format(num, i[\"thal\"].mode()[0]))"
   ]
  },
  {
   "cell_type": "code",
   "execution_count": 44,
   "id": "4f13a27e",
   "metadata": {},
   "outputs": [
    {
     "data": {
      "text/plain": [
       "87    -9\n",
       "266   -9\n",
       "Name: thal, dtype: int64"
      ]
     },
     "execution_count": 44,
     "metadata": {},
     "output_type": "execute_result"
    }
   ],
   "source": [
    "# Значения до замены\n",
    "pdata.loc[[87, 266], \"thal\"]"
   ]
  },
  {
   "cell_type": "code",
   "execution_count": 45,
   "id": "a08b643d",
   "metadata": {},
   "outputs": [],
   "source": [
    "pdata.loc[87, \"thal\"] = 3\n",
    "pdata.loc[266, \"thal\"] = 7"
   ]
  },
  {
   "cell_type": "code",
   "execution_count": 46,
   "id": "72467962",
   "metadata": {},
   "outputs": [
    {
     "data": {
      "text/plain": [
       "87     3\n",
       "266    7\n",
       "Name: thal, dtype: int64"
      ]
     },
     "execution_count": 46,
     "metadata": {},
     "output_type": "execute_result"
    }
   ],
   "source": [
    "# Значения после замены\n",
    "pdata.loc[[87, 266], \"thal\"]"
   ]
  },
  {
   "cell_type": "markdown",
   "id": "45eb00b1",
   "metadata": {},
   "source": [
    "Показатель ca является количественным, для него посчитаем среднее арифметическое и округлим до целого"
   ]
  },
  {
   "cell_type": "code",
   "execution_count": 47,
   "id": "8e0b7c00",
   "metadata": {},
   "outputs": [
    {
     "data": {
      "text/plain": [
       "166    0\n",
       "192    1\n",
       "Name: num, dtype: int64"
      ]
     },
     "execution_count": 47,
     "metadata": {},
     "output_type": "execute_result"
    }
   ],
   "source": [
    "pdata[(pdata[\"ca\"] == -9)][\"num\"]"
   ]
  },
  {
   "cell_type": "code",
   "execution_count": 48,
   "id": "fd9901a1",
   "metadata": {},
   "outputs": [
    {
     "name": "stdout",
     "output_type": "stream",
     "text": [
      "n: 0  ca: 0\n",
      "n: 1  ca: 1\n"
     ]
    }
   ],
   "source": [
    "for num, i in insert:\n",
    "    if ((num == 0) | (num == 1)):\n",
    "        print(\"n: {0:1}  ca: {1:1}\".format(num, round(i[\"ca\"].mean())))"
   ]
  },
  {
   "cell_type": "code",
   "execution_count": 49,
   "id": "11599eba",
   "metadata": {},
   "outputs": [
    {
     "data": {
      "text/plain": [
       "166   -9\n",
       "192   -9\n",
       "Name: ca, dtype: int64"
      ]
     },
     "execution_count": 49,
     "metadata": {},
     "output_type": "execute_result"
    }
   ],
   "source": [
    "# Значения до замены\n",
    "pdata.loc[[166, 192], \"ca\"]"
   ]
  },
  {
   "cell_type": "code",
   "execution_count": 50,
   "id": "febcfb5c",
   "metadata": {},
   "outputs": [],
   "source": [
    "pdata.loc[166, \"ca\"] = 0\n",
    "pdata.loc[192, \"ca\"] = 1"
   ]
  },
  {
   "cell_type": "code",
   "execution_count": 51,
   "id": "93b79788",
   "metadata": {},
   "outputs": [
    {
     "data": {
      "text/plain": [
       "166    0\n",
       "192    1\n",
       "Name: ca, dtype: int64"
      ]
     },
     "execution_count": 51,
     "metadata": {},
     "output_type": "execute_result"
    }
   ],
   "source": [
    "# Значения после замены\n",
    "pdata.loc[[166, 192], \"ca\"]"
   ]
  },
  {
   "cell_type": "code",
   "execution_count": 52,
   "id": "fb594269",
   "metadata": {},
   "outputs": [],
   "source": [
    "# Проверка, что не осталось пустых значений. Так как ничего не вывелось, пустых значений нет\n",
    "for column in pdata.columns:\n",
    "    if any(pdata[column] == -9):\n",
    "        print(\"column: {0:10}  missing: {1:1}\".format(column, (pdata[column] == -9).sum()))"
   ]
  }
 ],
 "metadata": {
  "kernelspec": {
   "display_name": "Python 3 (ipykernel)",
   "language": "python",
   "name": "python3"
  },
  "language_info": {
   "codemirror_mode": {
    "name": "ipython",
    "version": 3
   },
   "file_extension": ".py",
   "mimetype": "text/x-python",
   "name": "python",
   "nbconvert_exporter": "python",
   "pygments_lexer": "ipython3",
   "version": "3.9.7"
  }
 },
 "nbformat": 4,
 "nbformat_minor": 5
}
